{
 "cells": [
  {
   "cell_type": "code",
   "execution_count": 1,
   "metadata": {},
   "outputs": [],
   "source": [
    "import pandas as pd\n",
    "import nltk\n",
    "from nltk.corpus import stopwords\n",
    "from nltk.stem import WordNetLemmatizer\n",
    "import re\n",
    "\n",
    "\n",
    "def download_nltk_resources():\n",
    "    try:\n",
    "        nltk.download(\"stopwords\", quiet=True)\n",
    "        nltk.download(\"wordnet\", quiet=True)\n",
    "    except Exception as e:\n",
    "        print(f\"Error downloading NLTK resources: {e}\")\n",
    "\n",
    "\n",
    "download_nltk_resources()"
   ]
  },
  {
   "cell_type": "code",
   "execution_count": 2,
   "metadata": {},
   "outputs": [],
   "source": [
    "stop_words = set(stopwords.words(\"english\"))\n",
    "lemmatizer = WordNetLemmatizer()\n",
    "\n",
    "\n",
    "def normalize_transcript(transcript: str) -> str:\n",
    "    transcript = re.sub(r\"[^\\w\\s]|(?<!\\d)\\d(?!\\d)\", \"\", transcript)\n",
    "    transcript = re.sub(r\"\\s+\", \" \", transcript).lower()\n",
    "    transcript = \" \".join(\n",
    "        lemmatizer.lemmatize(word)\n",
    "        for word in transcript.split()\n",
    "        if word not in stop_words\n",
    "    )\n",
    "    transcript = re.sub(r\"\\s+\", \" \", transcript).strip()\n",
    "    return transcript"
   ]
  },
  {
   "cell_type": "code",
   "execution_count": 3,
   "metadata": {},
   "outputs": [
    {
     "data": {
      "text/html": [
       "<div>\n",
       "<style scoped>\n",
       "    .dataframe tbody tr th:only-of-type {\n",
       "        vertical-align: middle;\n",
       "    }\n",
       "\n",
       "    .dataframe tbody tr th {\n",
       "        vertical-align: top;\n",
       "    }\n",
       "\n",
       "    .dataframe thead th {\n",
       "        text-align: right;\n",
       "    }\n",
       "</style>\n",
       "<table border=\"1\" class=\"dataframe\">\n",
       "  <thead>\n",
       "    <tr style=\"text-align: right;\">\n",
       "      <th></th>\n",
       "      <th>video_id</th>\n",
       "      <th>transcript</th>\n",
       "    </tr>\n",
       "  </thead>\n",
       "  <tbody>\n",
       "    <tr>\n",
       "      <th>0</th>\n",
       "      <td>AAHiZ-c88ec</td>\n",
       "      <td>man im getting frustrated water heater deliver...</td>\n",
       "    </tr>\n",
       "    <tr>\n",
       "      <th>1</th>\n",
       "      <td>AEsRr-ZnzNc</td>\n",
       "      <td>start give shoutout rokukun vyonder harry stac...</td>\n",
       "    </tr>\n",
       "    <tr>\n",
       "      <th>2</th>\n",
       "      <td>AJpzk-aFZPU</td>\n",
       "      <td>test number alright okay oh go ground oh god c...</td>\n",
       "    </tr>\n",
       "    <tr>\n",
       "      <th>3</th>\n",
       "      <td>AONXX-h9SdI</td>\n",
       "      <td>gonna play something brand new album came octo...</td>\n",
       "    </tr>\n",
       "    <tr>\n",
       "      <th>4</th>\n",
       "      <td>AOZIY-AwsjM</td>\n",
       "      <td>music</td>\n",
       "    </tr>\n",
       "  </tbody>\n",
       "</table>\n",
       "</div>"
      ],
      "text/plain": [
       "      video_id                                         transcript\n",
       "0  AAHiZ-c88ec  man im getting frustrated water heater deliver...\n",
       "1  AEsRr-ZnzNc  start give shoutout rokukun vyonder harry stac...\n",
       "2  AJpzk-aFZPU  test number alright okay oh go ground oh god c...\n",
       "3  AONXX-h9SdI  gonna play something brand new album came octo...\n",
       "4  AOZIY-AwsjM                                              music"
      ]
     },
     "execution_count": 3,
     "metadata": {},
     "output_type": "execute_result"
    }
   ],
   "source": [
    "df = pd.read_csv(\"data/transcripts_new.csv\", header=0)\n",
    "df.dropna(subset=[\"transcript\"], inplace=True)\n",
    "df[\"transcript\"] = df[\"transcript\"].apply(normalize_transcript)\n",
    "df.dropna(subset=[\"transcript\"], inplace=True)\n",
    "df.head()"
   ]
  },
  {
   "cell_type": "code",
   "execution_count": 4,
   "metadata": {},
   "outputs": [],
   "source": [
    "df.to_csv(\"data/transcripts_normalized.csv\", index=False)"
   ]
  },
  {
   "cell_type": "code",
   "execution_count": 5,
   "metadata": {},
   "outputs": [
    {
     "data": {
      "text/plain": [
       "count     2654.000000\n",
       "mean       504.842502\n",
       "std       1340.897095\n",
       "min          0.000000\n",
       "25%         23.000000\n",
       "50%         99.000000\n",
       "75%        403.750000\n",
       "max      21641.000000\n",
       "Name: word_count, dtype: float64"
      ]
     },
     "execution_count": 5,
     "metadata": {},
     "output_type": "execute_result"
    }
   ],
   "source": [
    "df[\"word_count\"] = df[\"transcript\"].apply(lambda x: len(x.split()))\n",
    "df[\"word_count\"].describe()"
   ]
  },
  {
   "cell_type": "code",
   "execution_count": null,
   "metadata": {},
   "outputs": [],
   "source": []
  }
 ],
 "metadata": {
  "kernelspec": {
   "display_name": "ytb",
   "language": "python",
   "name": "python3"
  },
  "language_info": {
   "codemirror_mode": {
    "name": "ipython",
    "version": 3
   },
   "file_extension": ".py",
   "mimetype": "text/x-python",
   "name": "python",
   "nbconvert_exporter": "python",
   "pygments_lexer": "ipython3",
   "version": "3.10.16"
  }
 },
 "nbformat": 4,
 "nbformat_minor": 2
}
