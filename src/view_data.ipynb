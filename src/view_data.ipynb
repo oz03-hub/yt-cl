{
 "cells": [
  {
   "cell_type": "code",
   "execution_count": 1,
   "metadata": {},
   "outputs": [],
   "source": [
    "import pandas as pd"
   ]
  },
  {
   "cell_type": "code",
   "execution_count": 3,
   "metadata": {},
   "outputs": [
    {
     "data": {
      "text/html": [
       "<div>\n",
       "<style scoped>\n",
       "    .dataframe tbody tr th:only-of-type {\n",
       "        vertical-align: middle;\n",
       "    }\n",
       "\n",
       "    .dataframe tbody tr th {\n",
       "        vertical-align: top;\n",
       "    }\n",
       "\n",
       "    .dataframe thead th {\n",
       "        text-align: right;\n",
       "    }\n",
       "</style>\n",
       "<table border=\"1\" class=\"dataframe\">\n",
       "  <thead>\n",
       "    <tr style=\"text-align: right;\">\n",
       "      <th></th>\n",
       "      <th>Unnamed: 0</th>\n",
       "      <th>video_id</th>\n",
       "      <th>transcript</th>\n",
       "      <th>doc_length</th>\n",
       "      <th>lexical_diversity</th>\n",
       "    </tr>\n",
       "  </thead>\n",
       "  <tbody>\n",
       "    <tr>\n",
       "      <th>0</th>\n",
       "      <td>0</td>\n",
       "      <td>AAHiZ-c88ec</td>\n",
       "      <td>man getting frustrated water heater delivery s...</td>\n",
       "      <td>760</td>\n",
       "      <td>0.435526</td>\n",
       "    </tr>\n",
       "    <tr>\n",
       "      <th>1</th>\n",
       "      <td>1</td>\n",
       "      <td>AEsRr-ZnzNc</td>\n",
       "      <td>start give harry stack go war yes movie rock m...</td>\n",
       "      <td>142</td>\n",
       "      <td>0.676056</td>\n",
       "    </tr>\n",
       "    <tr>\n",
       "      <th>2</th>\n",
       "      <td>2</td>\n",
       "      <td>AJpzk-aFZPU</td>\n",
       "      <td>test number alright okay oh go ground oh god c...</td>\n",
       "      <td>16</td>\n",
       "      <td>0.812500</td>\n",
       "    </tr>\n",
       "    <tr>\n",
       "      <th>3</th>\n",
       "      <td>3</td>\n",
       "      <td>AONXX-h9SdI</td>\n",
       "      <td>gonna play something brand new album came octo...</td>\n",
       "      <td>266</td>\n",
       "      <td>0.289474</td>\n",
       "    </tr>\n",
       "    <tr>\n",
       "      <th>4</th>\n",
       "      <td>4</td>\n",
       "      <td>AOZIY-AwsjM</td>\n",
       "      <td>music</td>\n",
       "      <td>1</td>\n",
       "      <td>1.000000</td>\n",
       "    </tr>\n",
       "  </tbody>\n",
       "</table>\n",
       "</div>"
      ],
      "text/plain": [
       "   Unnamed: 0     video_id                                         transcript  \\\n",
       "0           0  AAHiZ-c88ec  man getting frustrated water heater delivery s...   \n",
       "1           1  AEsRr-ZnzNc  start give harry stack go war yes movie rock m...   \n",
       "2           2  AJpzk-aFZPU  test number alright okay oh go ground oh god c...   \n",
       "3           3  AONXX-h9SdI  gonna play something brand new album came octo...   \n",
       "4           4  AOZIY-AwsjM                                              music   \n",
       "\n",
       "   doc_length  lexical_diversity  \n",
       "0         760           0.435526  \n",
       "1         142           0.676056  \n",
       "2          16           0.812500  \n",
       "3         266           0.289474  \n",
       "4           1           1.000000  "
      ]
     },
     "execution_count": 3,
     "metadata": {},
     "output_type": "execute_result"
    }
   ],
   "source": [
    "df = pd.read_csv(\"../data/normalized.csv\")\n",
    "df.head()"
   ]
  },
  {
   "cell_type": "code",
   "execution_count": 5,
   "metadata": {},
   "outputs": [
    {
     "data": {
      "text/plain": [
       "count    2614.000000\n",
       "mean        0.647782\n",
       "std         0.247335\n",
       "min         0.002242\n",
       "25%         0.459459\n",
       "50%         0.666667\n",
       "75%         0.847132\n",
       "max         1.000000\n",
       "Name: lexical_diversity, dtype: float64"
      ]
     },
     "execution_count": 5,
     "metadata": {},
     "output_type": "execute_result"
    }
   ],
   "source": [
    "df[\"lexical_diversity\"].describe()"
   ]
  },
  {
   "cell_type": "code",
   "execution_count": 6,
   "metadata": {},
   "outputs": [
    {
     "data": {
      "text/plain": [
       "count     2614.000000\n",
       "mean       477.963275\n",
       "std       1256.654704\n",
       "min          1.000000\n",
       "25%         22.000000\n",
       "50%         93.500000\n",
       "75%        381.750000\n",
       "max      20538.000000\n",
       "Name: doc_length, dtype: float64"
      ]
     },
     "execution_count": 6,
     "metadata": {},
     "output_type": "execute_result"
    }
   ],
   "source": [
    "df[\"doc_length\"].describe()"
   ]
  },
  {
   "cell_type": "code",
   "execution_count": 11,
   "metadata": {},
   "outputs": [
    {
     "data": {
      "text/plain": [
       "(1479, 2614)"
      ]
     },
     "execution_count": 11,
     "metadata": {},
     "output_type": "execute_result"
    }
   ],
   "source": [
    "df_pruned = df[(df[\"doc_length\"] > 22) & (df[\"lexical_diversity\"] > 0.4)]\n",
    "len(df_pruned), len(df)"
   ]
  },
  {
   "cell_type": "code",
   "execution_count": 12,
   "metadata": {},
   "outputs": [],
   "source": [
    "df_pruned.to_csv(\"../data/normalized_pruned.csv\")"
   ]
  },
  {
   "cell_type": "code",
   "execution_count": null,
   "metadata": {},
   "outputs": [],
   "source": []
  }
 ],
 "metadata": {
  "kernelspec": {
   "display_name": "ytb",
   "language": "python",
   "name": "python3"
  },
  "language_info": {
   "codemirror_mode": {
    "name": "ipython",
    "version": 3
   },
   "file_extension": ".py",
   "mimetype": "text/x-python",
   "name": "python",
   "nbconvert_exporter": "python",
   "pygments_lexer": "ipython3",
   "version": "3.10.16"
  }
 },
 "nbformat": 4,
 "nbformat_minor": 2
}
