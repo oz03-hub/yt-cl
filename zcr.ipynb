{
 "cells": [
  {
   "cell_type": "code",
   "execution_count": 1,
   "metadata": {},
   "outputs": [],
   "source": [
    "import librosa\n",
    "import numpy as np\n",
    "import os\n",
    "import pandas as pd\n",
    "from tqdm import tqdm\n",
    "\n",
    "AUDIO_DIR = \"../../../work/pi_vcpartridge_umass_edu/ytb_wavs/\""
   ]
  },
  {
   "cell_type": "code",
   "execution_count": 2,
   "metadata": {},
   "outputs": [],
   "source": [
    "# Classification threshold (this may need tuning based on your dataset)\n",
    "ZCR_THRESHOLD = 0.05  # Adjust based on experiments\n",
    "\n",
    "# Function to compute Zero-Crossing Rate for a file\n",
    "def compute_zcr(file_path):\n",
    "    try:\n",
    "        y, sr = librosa.load(file_path, sr=None)  # Load audio\n",
    "        zcr = np.mean(librosa.feature.zero_crossing_rate(y))  # Compute ZCR\n",
    "        return zcr\n",
    "    except Exception as e:\n",
    "        print(f\"Error processing {file_path}: {e}\")\n",
    "        return None"
   ]
  },
  {
   "cell_type": "code",
   "execution_count": 3,
   "metadata": {},
   "outputs": [
    {
     "name": "stderr",
     "output_type": "stream",
     "text": [
      "100%|██████████| 2654/2654 [10:05<00:00,  4.38it/s] "
     ]
    },
    {
     "name": "stdout",
     "output_type": "stream",
     "text": [
      "Classification complete! Results saved to classification_results.csv.\n"
     ]
    },
    {
     "name": "stderr",
     "output_type": "stream",
     "text": [
      "\n"
     ]
    }
   ],
   "source": [
    "# Process all WAV files\n",
    "results = []\n",
    "for file_name in tqdm(os.listdir(AUDIO_DIR)):\n",
    "    if file_name.endswith(\".wav\"):\n",
    "        file_path = os.path.join(AUDIO_DIR, file_name)\n",
    "        zcr_value = compute_zcr(file_path)\n",
    "        \n",
    "        if zcr_value is not None:\n",
    "            classification = \"Speech\" if zcr_value > ZCR_THRESHOLD else \"Music\"\n",
    "            results.append((file_name, zcr_value, classification))\n",
    "\n",
    "# Save results to a CSV file\n",
    "df = pd.DataFrame(results, columns=[\"File\", \"ZCR\", \"Classification\"])\n",
    "df.to_csv(\"classification_results.csv\", index=False)\n",
    "\n",
    "print(\"Classification complete! Results saved to classification_results.csv.\")\n"
   ]
  },
  {
   "cell_type": "code",
   "execution_count": 13,
   "metadata": {},
   "outputs": [
    {
     "data": {
      "text/html": [
       "<div>\n",
       "<style scoped>\n",
       "    .dataframe tbody tr th:only-of-type {\n",
       "        vertical-align: middle;\n",
       "    }\n",
       "\n",
       "    .dataframe tbody tr th {\n",
       "        vertical-align: top;\n",
       "    }\n",
       "\n",
       "    .dataframe thead th {\n",
       "        text-align: right;\n",
       "    }\n",
       "</style>\n",
       "<table border=\"1\" class=\"dataframe\">\n",
       "  <thead>\n",
       "    <tr style=\"text-align: right;\">\n",
       "      <th></th>\n",
       "      <th>File</th>\n",
       "      <th>ZCR</th>\n",
       "      <th>Classification</th>\n",
       "    </tr>\n",
       "  </thead>\n",
       "  <tbody>\n",
       "    <tr>\n",
       "      <th>0</th>\n",
       "      <td>AAHiZ-c88ec.wav</td>\n",
       "      <td>0.147625</td>\n",
       "      <td>Speech</td>\n",
       "    </tr>\n",
       "    <tr>\n",
       "      <th>1</th>\n",
       "      <td>AEsRr-ZnzNc.wav</td>\n",
       "      <td>0.090394</td>\n",
       "      <td>Speech</td>\n",
       "    </tr>\n",
       "    <tr>\n",
       "      <th>2</th>\n",
       "      <td>AJpzk-aFZPU.wav</td>\n",
       "      <td>0.232535</td>\n",
       "      <td>Speech</td>\n",
       "    </tr>\n",
       "    <tr>\n",
       "      <th>3</th>\n",
       "      <td>AONXX-h9SdI.wav</td>\n",
       "      <td>0.143601</td>\n",
       "      <td>Speech</td>\n",
       "    </tr>\n",
       "    <tr>\n",
       "      <th>4</th>\n",
       "      <td>AOZIY-AwsjM.wav</td>\n",
       "      <td>0.106159</td>\n",
       "      <td>Speech</td>\n",
       "    </tr>\n",
       "  </tbody>\n",
       "</table>\n",
       "</div>"
      ],
      "text/plain": [
       "              File       ZCR Classification\n",
       "0  AAHiZ-c88ec.wav  0.147625         Speech\n",
       "1  AEsRr-ZnzNc.wav  0.090394         Speech\n",
       "2  AJpzk-aFZPU.wav  0.232535         Speech\n",
       "3  AONXX-h9SdI.wav  0.143601         Speech\n",
       "4  AOZIY-AwsjM.wav  0.106159         Speech"
      ]
     },
     "execution_count": 13,
     "metadata": {},
     "output_type": "execute_result"
    }
   ],
   "source": [
    "df = pd.read_csv(\"classification_results.csv\")\n",
    "df.head()"
   ]
  },
  {
   "cell_type": "code",
   "execution_count": 14,
   "metadata": {},
   "outputs": [
    {
     "data": {
      "text/plain": [
       "count    2654.000000\n",
       "mean        0.123274\n",
       "std         0.044659\n",
       "min         0.008866\n",
       "25%         0.093755\n",
       "50%         0.118163\n",
       "75%         0.146710\n",
       "max         0.390265\n",
       "Name: ZCR, dtype: float64"
      ]
     },
     "execution_count": 14,
     "metadata": {},
     "output_type": "execute_result"
    }
   ],
   "source": [
    "# df.where(df[\"Classification\"] == \"Music\").count()\n",
    "df[\"ZCR\"].describe()"
   ]
  },
  {
   "cell_type": "code",
   "execution_count": 15,
   "metadata": {},
   "outputs": [],
   "source": [
    "df[\"File\"] = df[\"File\"].str.replace(\".wav\", \"\")\n",
    "df[\"Classification\"] = df[\"ZCR\"].apply(lambda x: \"Speech\" if x > 0.07 else \"Music\")"
   ]
  },
  {
   "cell_type": "code",
   "execution_count": 16,
   "metadata": {},
   "outputs": [],
   "source": [
    "df.to_csv(\"classification_results_tuned.csv\", index=False)"
   ]
  },
  {
   "cell_type": "code",
   "execution_count": 2,
   "metadata": {},
   "outputs": [
    {
     "data": {
      "text/html": [
       "<div>\n",
       "<style scoped>\n",
       "    .dataframe tbody tr th:only-of-type {\n",
       "        vertical-align: middle;\n",
       "    }\n",
       "\n",
       "    .dataframe tbody tr th {\n",
       "        vertical-align: top;\n",
       "    }\n",
       "\n",
       "    .dataframe thead th {\n",
       "        text-align: right;\n",
       "    }\n",
       "</style>\n",
       "<table border=\"1\" class=\"dataframe\">\n",
       "  <thead>\n",
       "    <tr style=\"text-align: right;\">\n",
       "      <th></th>\n",
       "      <th>File</th>\n",
       "      <th>ZCR</th>\n",
       "      <th>SpectralCentroid</th>\n",
       "      <th>SpectralFlux</th>\n",
       "      <th>RMSEnergy</th>\n",
       "      <th>Classification</th>\n",
       "    </tr>\n",
       "  </thead>\n",
       "  <tbody>\n",
       "    <tr>\n",
       "      <th>0</th>\n",
       "      <td>AAHiZ-c88ec</td>\n",
       "      <td>0.147625</td>\n",
       "      <td>2020.684248</td>\n",
       "      <td>0.061404</td>\n",
       "      <td>0.060953</td>\n",
       "      <td>Speech</td>\n",
       "    </tr>\n",
       "    <tr>\n",
       "      <th>1</th>\n",
       "      <td>AEsRr-ZnzNc</td>\n",
       "      <td>0.090394</td>\n",
       "      <td>1459.411075</td>\n",
       "      <td>-0.286998</td>\n",
       "      <td>0.119854</td>\n",
       "      <td>Music</td>\n",
       "    </tr>\n",
       "    <tr>\n",
       "      <th>2</th>\n",
       "      <td>AJpzk-aFZPU</td>\n",
       "      <td>0.232535</td>\n",
       "      <td>2547.312383</td>\n",
       "      <td>0.635120</td>\n",
       "      <td>0.091512</td>\n",
       "      <td>Speech</td>\n",
       "    </tr>\n",
       "    <tr>\n",
       "      <th>3</th>\n",
       "      <td>AONXX-h9SdI</td>\n",
       "      <td>0.143601</td>\n",
       "      <td>2209.112949</td>\n",
       "      <td>0.005477</td>\n",
       "      <td>0.107071</td>\n",
       "      <td>Speech</td>\n",
       "    </tr>\n",
       "    <tr>\n",
       "      <th>4</th>\n",
       "      <td>AOZIY-AwsjM</td>\n",
       "      <td>0.106159</td>\n",
       "      <td>1218.740176</td>\n",
       "      <td>-0.102051</td>\n",
       "      <td>0.036883</td>\n",
       "      <td>Music</td>\n",
       "    </tr>\n",
       "  </tbody>\n",
       "</table>\n",
       "</div>"
      ],
      "text/plain": [
       "          File       ZCR  SpectralCentroid  SpectralFlux  RMSEnergy  \\\n",
       "0  AAHiZ-c88ec  0.147625       2020.684248      0.061404   0.060953   \n",
       "1  AEsRr-ZnzNc  0.090394       1459.411075     -0.286998   0.119854   \n",
       "2  AJpzk-aFZPU  0.232535       2547.312383      0.635120   0.091512   \n",
       "3  AONXX-h9SdI  0.143601       2209.112949      0.005477   0.107071   \n",
       "4  AOZIY-AwsjM  0.106159       1218.740176     -0.102051   0.036883   \n",
       "\n",
       "  Classification  \n",
       "0         Speech  \n",
       "1          Music  \n",
       "2         Speech  \n",
       "3         Speech  \n",
       "4          Music  "
      ]
     },
     "execution_count": 2,
     "metadata": {},
     "output_type": "execute_result"
    }
   ],
   "source": [
    "clustered_df = pd.read_csv(\"clustered_results.csv\")\n",
    "clustered_df.head()"
   ]
  },
  {
   "cell_type": "code",
   "execution_count": 4,
   "metadata": {},
   "outputs": [
    {
     "data": {
      "text/plain": [
       "Classification\n",
       "Music     1587\n",
       "Speech    1067\n",
       "Name: count, dtype: int64"
      ]
     },
     "execution_count": 4,
     "metadata": {},
     "output_type": "execute_result"
    }
   ],
   "source": [
    "clustered_df[\"Classification\"].value_counts()"
   ]
  },
  {
   "cell_type": "code",
   "execution_count": null,
   "metadata": {},
   "outputs": [],
   "source": []
  }
 ],
 "metadata": {
  "kernelspec": {
   "display_name": "ytb",
   "language": "python",
   "name": "python3"
  },
  "language_info": {
   "codemirror_mode": {
    "name": "ipython",
    "version": 3
   },
   "file_extension": ".py",
   "mimetype": "text/x-python",
   "name": "python",
   "nbconvert_exporter": "python",
   "pygments_lexer": "ipython3",
   "version": "3.10.16"
  }
 },
 "nbformat": 4,
 "nbformat_minor": 2
}
