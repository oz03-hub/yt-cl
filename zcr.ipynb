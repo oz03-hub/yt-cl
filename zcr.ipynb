{
 "cells": [
  {
   "cell_type": "code",
   "execution_count": 1,
   "metadata": {},
   "outputs": [],
   "source": [
    "import librosa\n",
    "import numpy as np\n",
    "import os\n",
    "import pandas as pd\n",
    "from tqdm import tqdm\n",
    "\n",
    "AUDIO_DIR = \"../../../work/pi_vcpartridge_umass_edu/ytb_wavs/\""
   ]
  },
  {
   "cell_type": "code",
   "execution_count": 2,
   "metadata": {},
   "outputs": [],
   "source": [
    "# Classification threshold (this may need tuning based on your dataset)\n",
    "ZCR_THRESHOLD = 0.05  # Adjust based on experiments\n",
    "\n",
    "# Function to compute Zero-Crossing Rate for a file\n",
    "def compute_zcr(file_path):\n",
    "    try:\n",
    "        y, sr = librosa.load(file_path, sr=None)  # Load audio\n",
    "        zcr = np.mean(librosa.feature.zero_crossing_rate(y))  # Compute ZCR\n",
    "        return zcr\n",
    "    except Exception as e:\n",
    "        print(f\"Error processing {file_path}: {e}\")\n",
    "        return None"
   ]
  },
  {
   "cell_type": "code",
   "execution_count": 3,
   "metadata": {},
   "outputs": [
    {
     "name": "stderr",
     "output_type": "stream",
     "text": [
      "100%|██████████| 2654/2654 [10:05<00:00,  4.38it/s] "
     ]
    },
    {
     "name": "stdout",
     "output_type": "stream",
     "text": [
      "Classification complete! Results saved to classification_results.csv.\n"
     ]
    },
    {
     "name": "stderr",
     "output_type": "stream",
     "text": [
      "\n"
     ]
    }
   ],
   "source": [
    "# Process all WAV files\n",
    "results = []\n",
    "for file_name in tqdm(os.listdir(AUDIO_DIR)):\n",
    "    if file_name.endswith(\".wav\"):\n",
    "        file_path = os.path.join(AUDIO_DIR, file_name)\n",
    "        zcr_value = compute_zcr(file_path)\n",
    "        \n",
    "        if zcr_value is not None:\n",
    "            classification = \"Speech\" if zcr_value > ZCR_THRESHOLD else \"Music\"\n",
    "            results.append((file_name, zcr_value, classification))\n",
    "\n",
    "# Save results to a CSV file\n",
    "df = pd.DataFrame(results, columns=[\"File\", \"ZCR\", \"Classification\"])\n",
    "df.to_csv(\"classification_results.csv\", index=False)\n",
    "\n",
    "print(\"Classification complete! Results saved to classification_results.csv.\")\n"
   ]
  },
  {
   "cell_type": "code",
   "execution_count": null,
   "metadata": {},
   "outputs": [],
   "source": []
  }
 ],
 "metadata": {
  "kernelspec": {
   "display_name": "ytb",
   "language": "python",
   "name": "python3"
  },
  "language_info": {
   "codemirror_mode": {
    "name": "ipython",
    "version": 3
   },
   "file_extension": ".py",
   "mimetype": "text/x-python",
   "name": "python",
   "nbconvert_exporter": "python",
   "pygments_lexer": "ipython3",
   "version": "3.10.16"
  }
 },
 "nbformat": 4,
 "nbformat_minor": 2
}
