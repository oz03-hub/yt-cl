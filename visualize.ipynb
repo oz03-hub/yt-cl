{
 "cells": [
  {
   "cell_type": "code",
   "execution_count": 3,
   "metadata": {},
   "outputs": [
    {
     "data": {
      "text/html": [
       "<div>\n",
       "<style scoped>\n",
       "    .dataframe tbody tr th:only-of-type {\n",
       "        vertical-align: middle;\n",
       "    }\n",
       "\n",
       "    .dataframe tbody tr th {\n",
       "        vertical-align: top;\n",
       "    }\n",
       "\n",
       "    .dataframe thead th {\n",
       "        text-align: right;\n",
       "    }\n",
       "</style>\n",
       "<table border=\"1\" class=\"dataframe\">\n",
       "  <thead>\n",
       "    <tr style=\"text-align: right;\">\n",
       "      <th></th>\n",
       "      <th>video_id</th>\n",
       "      <th>transcript</th>\n",
       "      <th>title</th>\n",
       "      <th>description</th>\n",
       "      <th>duration</th>\n",
       "      <th>view_count</th>\n",
       "      <th>like_count</th>\n",
       "      <th>channel_follower_count</th>\n",
       "      <th>categories</th>\n",
       "      <th>speech_duration</th>\n",
       "      <th>openai_response</th>\n",
       "      <th>ZCR</th>\n",
       "      <th>SpectralCentroid</th>\n",
       "      <th>SpectralFlux</th>\n",
       "      <th>RMSEnergy</th>\n",
       "      <th>doc_length</th>\n",
       "      <th>lexical_diversity</th>\n",
       "    </tr>\n",
       "  </thead>\n",
       "  <tbody>\n",
       "    <tr>\n",
       "      <th>0</th>\n",
       "      <td>AAHiZ-c88ec</td>\n",
       "      <td>man getting frustrated water heater delivery s...</td>\n",
       "      <td>How to INSTALL a HEAT PUMP Electric WATER HEAT...</td>\n",
       "      <td>Need to catch some rats? Use our Twin Traps: h...</td>\n",
       "      <td>586</td>\n",
       "      <td>10280</td>\n",
       "      <td>161.0</td>\n",
       "      <td>375000.0</td>\n",
       "      <td>Education</td>\n",
       "      <td>492.817500</td>\n",
       "      <td>Good</td>\n",
       "      <td>0.147625</td>\n",
       "      <td>2020.684248</td>\n",
       "      <td>0.061404</td>\n",
       "      <td>0.060953</td>\n",
       "      <td>760</td>\n",
       "      <td>0.435526</td>\n",
       "    </tr>\n",
       "    <tr>\n",
       "      <th>1</th>\n",
       "      <td>AEsRr-ZnzNc</td>\n",
       "      <td>start give harry stack go war yes movie rock m...</td>\n",
       "      <td>MacFan Salutes E10 S3: Avatar the Way of water...</td>\n",
       "      <td>Shoutouts \\n@RokuKun3 \\n@HarryStrackTheGoAnima...</td>\n",
       "      <td>172</td>\n",
       "      <td>18</td>\n",
       "      <td>0.0</td>\n",
       "      <td>128.0</td>\n",
       "      <td>Entertainment</td>\n",
       "      <td>135.860625</td>\n",
       "      <td>Bad</td>\n",
       "      <td>0.090394</td>\n",
       "      <td>1459.411075</td>\n",
       "      <td>-0.286998</td>\n",
       "      <td>0.119854</td>\n",
       "      <td>142</td>\n",
       "      <td>0.676056</td>\n",
       "    </tr>\n",
       "    <tr>\n",
       "      <th>2</th>\n",
       "      <td>AJpzk-aFZPU</td>\n",
       "      <td>test number alright okay oh go ground oh god c...</td>\n",
       "      <td>Blow up an apple fail</td>\n",
       "      <td>Lets see if blowing up an apple is a great ides</td>\n",
       "      <td>108</td>\n",
       "      <td>44</td>\n",
       "      <td>4.0</td>\n",
       "      <td>31.0</td>\n",
       "      <td>People &amp; Blogs</td>\n",
       "      <td>45.883125</td>\n",
       "      <td>Bad</td>\n",
       "      <td>0.232535</td>\n",
       "      <td>2547.312383</td>\n",
       "      <td>0.635120</td>\n",
       "      <td>0.091512</td>\n",
       "      <td>16</td>\n",
       "      <td>0.812500</td>\n",
       "    </tr>\n",
       "    <tr>\n",
       "      <th>3</th>\n",
       "      <td>AONXX-h9SdI</td>\n",
       "      <td>gonna play something brand new album came octo...</td>\n",
       "      <td>Queensryche 2022-10-21 \"Behind The Walls\" Kala...</td>\n",
       "      <td>Queensryche performs the song \"Behind The Wall...</td>\n",
       "      <td>353</td>\n",
       "      <td>612</td>\n",
       "      <td>24.0</td>\n",
       "      <td>8450.0</td>\n",
       "      <td>Music</td>\n",
       "      <td>65.542500</td>\n",
       "      <td>Good</td>\n",
       "      <td>0.143601</td>\n",
       "      <td>2209.112949</td>\n",
       "      <td>0.005477</td>\n",
       "      <td>0.107071</td>\n",
       "      <td>266</td>\n",
       "      <td>0.289474</td>\n",
       "    </tr>\n",
       "    <tr>\n",
       "      <th>4</th>\n",
       "      <td>AOZIY-AwsjM</td>\n",
       "      <td>music</td>\n",
       "      <td>fish8</td>\n",
       "      <td>NaN</td>\n",
       "      <td>21</td>\n",
       "      <td>1</td>\n",
       "      <td>0.0</td>\n",
       "      <td>25.0</td>\n",
       "      <td>Comedy</td>\n",
       "      <td>2.345625</td>\n",
       "      <td>Bad</td>\n",
       "      <td>0.106159</td>\n",
       "      <td>1218.740176</td>\n",
       "      <td>-0.102051</td>\n",
       "      <td>0.036883</td>\n",
       "      <td>1</td>\n",
       "      <td>1.000000</td>\n",
       "    </tr>\n",
       "  </tbody>\n",
       "</table>\n",
       "</div>"
      ],
      "text/plain": [
       "      video_id                                         transcript  \\\n",
       "0  AAHiZ-c88ec  man getting frustrated water heater delivery s...   \n",
       "1  AEsRr-ZnzNc  start give harry stack go war yes movie rock m...   \n",
       "2  AJpzk-aFZPU  test number alright okay oh go ground oh god c...   \n",
       "3  AONXX-h9SdI  gonna play something brand new album came octo...   \n",
       "4  AOZIY-AwsjM                                              music   \n",
       "\n",
       "                                               title  \\\n",
       "0  How to INSTALL a HEAT PUMP Electric WATER HEAT...   \n",
       "1  MacFan Salutes E10 S3: Avatar the Way of water...   \n",
       "2                              Blow up an apple fail   \n",
       "3  Queensryche 2022-10-21 \"Behind The Walls\" Kala...   \n",
       "4                                              fish8   \n",
       "\n",
       "                                         description  duration  view_count  \\\n",
       "0  Need to catch some rats? Use our Twin Traps: h...       586       10280   \n",
       "1  Shoutouts \\n@RokuKun3 \\n@HarryStrackTheGoAnima...       172          18   \n",
       "2    Lets see if blowing up an apple is a great ides       108          44   \n",
       "3  Queensryche performs the song \"Behind The Wall...       353         612   \n",
       "4                                                NaN        21           1   \n",
       "\n",
       "   like_count  channel_follower_count      categories  speech_duration  \\\n",
       "0       161.0                375000.0       Education       492.817500   \n",
       "1         0.0                   128.0   Entertainment       135.860625   \n",
       "2         4.0                    31.0  People & Blogs        45.883125   \n",
       "3        24.0                  8450.0           Music        65.542500   \n",
       "4         0.0                    25.0          Comedy         2.345625   \n",
       "\n",
       "  openai_response       ZCR  SpectralCentroid  SpectralFlux  RMSEnergy  \\\n",
       "0            Good  0.147625       2020.684248      0.061404   0.060953   \n",
       "1             Bad  0.090394       1459.411075     -0.286998   0.119854   \n",
       "2             Bad  0.232535       2547.312383      0.635120   0.091512   \n",
       "3            Good  0.143601       2209.112949      0.005477   0.107071   \n",
       "4             Bad  0.106159       1218.740176     -0.102051   0.036883   \n",
       "\n",
       "   doc_length  lexical_diversity  \n",
       "0         760           0.435526  \n",
       "1         142           0.676056  \n",
       "2          16           0.812500  \n",
       "3         266           0.289474  \n",
       "4           1           1.000000  "
      ]
     },
     "execution_count": 3,
     "metadata": {},
     "output_type": "execute_result"
    }
   ],
   "source": [
    "import pandas as pd\n",
    "import seaborn as sns\n",
    "df = pd.read_csv(\"data/clean/transcripts_with_features_normalized.csv\")\n",
    "df.head()"
   ]
  },
  {
   "cell_type": "code",
   "execution_count": 15,
   "metadata": {},
   "outputs": [],
   "source": [
    "df[\"speech_duration\"] = df[\"speech_duration\"].astype(int)\n",
    "df[\"speech_ratio\"] = df[\"speech_duration\"] / df[\"duration\"] # duration is int seconds was causing > 1 ratio"
   ]
  },
  {
   "cell_type": "code",
   "execution_count": 16,
   "metadata": {},
   "outputs": [
    {
     "data": {
      "text/plain": [
       "<Axes: >"
      ]
     },
     "execution_count": 16,
     "metadata": {},
     "output_type": "execute_result"
    },
    {
     "data": {
      "image/png": "[encoded data removed]",
      "text/plain": [
       "<Figure size 640x480 with 1 Axes>"
      ]
     },
     "metadata": {},
     "output_type": "display_data"
    }
   ],
   "source": [
    "df[\"speech_ratio\"].hist(bins=80)"
   ]
  },
  {
   "cell_type": "code",
   "execution_count": 17,
   "metadata": {},
   "outputs": [
    {
     "data": {
      "text/plain": [
       "Index(['video_id', 'transcript', 'title', 'description', 'duration',\n",
       "       'view_count', 'like_count', 'channel_follower_count', 'categories',\n",
       "       'speech_duration', 'openai_response', 'ZCR', 'SpectralCentroid',\n",
       "       'SpectralFlux', 'RMSEnergy', 'doc_length', 'lexical_diversity',\n",
       "       'speech_ratio'],\n",
       "      dtype='object')"
      ]
     },
     "execution_count": 17,
     "metadata": {},
     "output_type": "execute_result"
    }
   ],
   "source": [
    "df.columns"
   ]
  },
  {
   "cell_type": "code",
   "execution_count": 39,
   "metadata": {},
   "outputs": [
    {
     "data": {
      "text/plain": [
       "count    2.616000e+03\n",
       "mean     1.027399e+04\n",
       "std      2.411371e+05\n",
       "min      0.000000e+00\n",
       "25%      9.000000e+00\n",
       "50%      3.600000e+01\n",
       "75%      2.472500e+02\n",
       "max      1.175512e+07\n",
       "Name: view_count, dtype: float64"
      ]
     },
     "execution_count": 39,
     "metadata": {},
     "output_type": "execute_result"
    }
   ],
   "source": [
    "df[\"view_count\"].describe()"
   ]
  },
  {
   "cell_type": "code",
   "execution_count": 20,
   "metadata": {},
   "outputs": [
    {
     "data": {
      "text/plain": [
       "openai_response\n",
       "Good    1462\n",
       "Bad     1154\n",
       "Name: count, dtype: int64"
      ]
     },
     "execution_count": 20,
     "metadata": {},
     "output_type": "execute_result"
    }
   ],
   "source": [
    "df[\"openai_response\"].value_counts()"
   ]
  },
  {
   "cell_type": "code",
   "execution_count": 25,
   "metadata": {},
   "outputs": [
    {
     "data": {
      "text/plain": [
       "video_id                  1139\n",
       "transcript                1139\n",
       "title                     1139\n",
       "description                867\n",
       "duration                  1139\n",
       "view_count                1139\n",
       "like_count                1139\n",
       "channel_follower_count    1085\n",
       "categories                1139\n",
       "speech_duration           1139\n",
       "openai_response           1139\n",
       "ZCR                       1139\n",
       "SpectralCentroid          1139\n",
       "SpectralFlux              1139\n",
       "RMSEnergy                 1139\n",
       "doc_length                1139\n",
       "lexical_diversity         1139\n",
       "speech_ratio              1139\n",
       "cluster                   1139\n",
       "dtype: int64"
      ]
     },
     "execution_count": 25,
     "metadata": {},
     "output_type": "execute_result"
    }
   ],
   "source": [
    "df.where((df[\"openai_response\"] == \"Good\") & (df[\"speech_ratio\"] > 0.5)).count()"
   ]
  },
  {
   "cell_type": "code",
   "execution_count": 32,
   "metadata": {},
   "outputs": [
    {
     "data": {
      "text/plain": [
       "categories\n",
       "People & Blogs           1130\n",
       "Gaming                    483\n",
       "Entertainment             247\n",
       "Education                 127\n",
       "Music                     113\n",
       "Comedy                     86\n",
       "Sports                     76\n",
       "Film & Animation           70\n",
       "Autos & Vehicles           60\n",
       "Howto & Style              59\n",
       "News & Politics            39\n",
       "Science & Technology       36\n",
       "Travel & Events            33\n",
       "Nonprofits & Activism      33\n",
       "Pets & Animals             24\n",
       "Name: count, dtype: int64"
      ]
     },
     "execution_count": 32,
     "metadata": {},
     "output_type": "execute_result"
    }
   ],
   "source": [
    "df[\"categories\"].value_counts()"
   ]
  }
 ],
 "metadata": {
  "kernelspec": {
   "display_name": "ytb",
   "language": "python",
   "name": "python3"
  },
  "language_info": {
   "codemirror_mode": {
    "name": "ipython",
    "version": 3
   },
   "file_extension": ".py",
   "mimetype": "text/x-python",
   "name": "python",
   "nbconvert_exporter": "python",
   "pygments_lexer": "ipython3",
   "version": "3.10.16"
  }
 },
 "nbformat": 4,
 "nbformat_minor": 2
}
