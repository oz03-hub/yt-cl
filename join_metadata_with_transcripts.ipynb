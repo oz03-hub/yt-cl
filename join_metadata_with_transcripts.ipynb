{
 "cells": [
  {
   "cell_type": "code",
   "execution_count": 5,
   "metadata": {},
   "outputs": [
    {
     "data": {
      "text/html": [
       "<div>\n",
       "<style scoped>\n",
       "    .dataframe tbody tr th:only-of-type {\n",
       "        vertical-align: middle;\n",
       "    }\n",
       "\n",
       "    .dataframe tbody tr th {\n",
       "        vertical-align: top;\n",
       "    }\n",
       "\n",
       "    .dataframe thead th {\n",
       "        text-align: right;\n",
       "    }\n",
       "</style>\n",
       "<table border=\"1\" class=\"dataframe\">\n",
       "  <thead>\n",
       "    <tr style=\"text-align: right;\">\n",
       "      <th></th>\n",
       "      <th>transcript</th>\n",
       "    </tr>\n",
       "    <tr>\n",
       "      <th>video_id</th>\n",
       "      <th></th>\n",
       "    </tr>\n",
       "  </thead>\n",
       "  <tbody>\n",
       "    <tr>\n",
       "      <th>AAHiZ-c88ec</th>\n",
       "      <td>Man, because I'm getting frustrated. I had a ...</td>\n",
       "    </tr>\n",
       "    <tr>\n",
       "      <th>AEsRr-ZnzNc</th>\n",
       "      <td>Before I start, I will give a shoutout to Rok...</td>\n",
       "    </tr>\n",
       "    <tr>\n",
       "      <th>AJpzk-aFZPU</th>\n",
       "      <td>test number 3. Alright Okay, oh go on the gro...</td>\n",
       "    </tr>\n",
       "    <tr>\n",
       "      <th>AONXX-h9SdI</th>\n",
       "      <td>We're gonna play something off of our brand n...</td>\n",
       "    </tr>\n",
       "    <tr>\n",
       "      <th>AOZIY-AwsjM</th>\n",
       "      <td>Music</td>\n",
       "    </tr>\n",
       "  </tbody>\n",
       "</table>\n",
       "</div>"
      ],
      "text/plain": [
       "                                                    transcript\n",
       "video_id                                                      \n",
       "AAHiZ-c88ec   Man, because I'm getting frustrated. I had a ...\n",
       "AEsRr-ZnzNc   Before I start, I will give a shoutout to Rok...\n",
       "AJpzk-aFZPU   test number 3. Alright Okay, oh go on the gro...\n",
       "AONXX-h9SdI   We're gonna play something off of our brand n...\n",
       "AOZIY-AwsjM                                              Music"
      ]
     },
     "execution_count": 5,
     "metadata": {},
     "output_type": "execute_result"
    }
   ],
   "source": [
    "import pandas as pd\n",
    "\n",
    "transcripts = pd.read_csv('data/transcripts_new.csv', index_col=0)\n",
    "transcripts.head()"
   ]
  },
  {
   "cell_type": "code",
   "execution_count": 6,
   "metadata": {},
   "outputs": [
    {
     "data": {
      "text/html": [
       "<div>\n",
       "<style scoped>\n",
       "    .dataframe tbody tr th:only-of-type {\n",
       "        vertical-align: middle;\n",
       "    }\n",
       "\n",
       "    .dataframe tbody tr th {\n",
       "        vertical-align: top;\n",
       "    }\n",
       "\n",
       "    .dataframe thead th {\n",
       "        text-align: right;\n",
       "    }\n",
       "</style>\n",
       "<table border=\"1\" class=\"dataframe\">\n",
       "  <thead>\n",
       "    <tr style=\"text-align: right;\">\n",
       "      <th></th>\n",
       "      <th>id</th>\n",
       "      <th>title</th>\n",
       "      <th>description</th>\n",
       "      <th>duration</th>\n",
       "      <th>view_count</th>\n",
       "      <th>like_count</th>\n",
       "      <th>channel_follower_count</th>\n",
       "      <th>categories</th>\n",
       "    </tr>\n",
       "  </thead>\n",
       "  <tbody>\n",
       "    <tr>\n",
       "      <th>0</th>\n",
       "      <td>gNuER-JtL3Q</td>\n",
       "      <td>Connectwell Celebration</td>\n",
       "      <td>Celebrating together is essential to growing t...</td>\n",
       "      <td>30</td>\n",
       "      <td>172</td>\n",
       "      <td>2.0</td>\n",
       "      <td>553.0</td>\n",
       "      <td>Science &amp; Technology</td>\n",
       "    </tr>\n",
       "    <tr>\n",
       "      <th>1</th>\n",
       "      <td>gNUEr-XRzSs</td>\n",
       "      <td>\"Keeping Money in the Local Economy\" - What is...</td>\n",
       "      <td>#crypto #bitcoin #blockchain #nft #cryptocurre...</td>\n",
       "      <td>2839</td>\n",
       "      <td>189</td>\n",
       "      <td>17.0</td>\n",
       "      <td>1520.0</td>\n",
       "      <td>Entertainment</td>\n",
       "    </tr>\n",
       "    <tr>\n",
       "      <th>2</th>\n",
       "      <td>eiKiP-UI5Yk</td>\n",
       "      <td>2010 Dodge Grand Caravan Louisville KY 40222</td>\n",
       "      <td>Click here for price : http://OxmoorHyundai.vs...</td>\n",
       "      <td>79</td>\n",
       "      <td>6</td>\n",
       "      <td>0.0</td>\n",
       "      <td>10.0</td>\n",
       "      <td>Autos &amp; Vehicles</td>\n",
       "    </tr>\n",
       "    <tr>\n",
       "      <th>3</th>\n",
       "      <td>EIKIp--YKa8</td>\n",
       "      <td>CERF : Algae Bros Research part 1</td>\n",
       "      <td>Students are researching algae growth rates an...</td>\n",
       "      <td>42</td>\n",
       "      <td>12</td>\n",
       "      <td>0.0</td>\n",
       "      <td>69.0</td>\n",
       "      <td>People &amp; Blogs</td>\n",
       "    </tr>\n",
       "    <tr>\n",
       "      <th>4</th>\n",
       "      <td>Eikip-qiSMA</td>\n",
       "      <td>Overwatch: [S6] Watchpoint Gibraltar - Back to...</td>\n",
       "      <td>Overwatch: Origins Edition\\nhttps://store.play...</td>\n",
       "      <td>1302</td>\n",
       "      <td>7</td>\n",
       "      <td>0.0</td>\n",
       "      <td>19.0</td>\n",
       "      <td>Gaming</td>\n",
       "    </tr>\n",
       "  </tbody>\n",
       "</table>\n",
       "</div>"
      ],
      "text/plain": [
       "            id                                              title  \\\n",
       "0  gNuER-JtL3Q                            Connectwell Celebration   \n",
       "1  gNUEr-XRzSs  \"Keeping Money in the Local Economy\" - What is...   \n",
       "2  eiKiP-UI5Yk       2010 Dodge Grand Caravan Louisville KY 40222   \n",
       "3  EIKIp--YKa8                  CERF : Algae Bros Research part 1   \n",
       "4  Eikip-qiSMA  Overwatch: [S6] Watchpoint Gibraltar - Back to...   \n",
       "\n",
       "                                         description  duration  view_count  \\\n",
       "0  Celebrating together is essential to growing t...        30         172   \n",
       "1  #crypto #bitcoin #blockchain #nft #cryptocurre...      2839         189   \n",
       "2  Click here for price : http://OxmoorHyundai.vs...        79           6   \n",
       "3  Students are researching algae growth rates an...        42          12   \n",
       "4  Overwatch: Origins Edition\\nhttps://store.play...      1302           7   \n",
       "\n",
       "   like_count  channel_follower_count            categories  \n",
       "0         2.0                   553.0  Science & Technology  \n",
       "1        17.0                  1520.0         Entertainment  \n",
       "2         0.0                    10.0      Autos & Vehicles  \n",
       "3         0.0                    69.0        People & Blogs  \n",
       "4         0.0                    19.0                Gaming  "
      ]
     },
     "execution_count": 6,
     "metadata": {},
     "output_type": "execute_result"
    }
   ],
   "source": [
    "metadata = pd.read_csv('data/english_samples.csv', usecols=[\"id\", \"title\", \"description\", \"view_count\", \"like_count\", \"duration\", \"channel_follower_count\", \"categories\"], encoding_errors=\"ignore\")\n",
    "metadata.head()"
   ]
  },
  {
   "cell_type": "code",
   "execution_count": 7,
   "metadata": {},
   "outputs": [
    {
     "data": {
      "text/plain": [
       "(37408, 2654)"
      ]
     },
     "execution_count": 7,
     "metadata": {},
     "output_type": "execute_result"
    }
   ],
   "source": [
    "len(metadata), len(transcripts)"
   ]
  },
  {
   "cell_type": "code",
   "execution_count": 9,
   "metadata": {},
   "outputs": [
    {
     "data": {
      "text/html": [
       "<div>\n",
       "<style scoped>\n",
       "    .dataframe tbody tr th:only-of-type {\n",
       "        vertical-align: middle;\n",
       "    }\n",
       "\n",
       "    .dataframe tbody tr th {\n",
       "        vertical-align: top;\n",
       "    }\n",
       "\n",
       "    .dataframe thead th {\n",
       "        text-align: right;\n",
       "    }\n",
       "</style>\n",
       "<table border=\"1\" class=\"dataframe\">\n",
       "  <thead>\n",
       "    <tr style=\"text-align: right;\">\n",
       "      <th></th>\n",
       "      <th>transcript</th>\n",
       "      <th>video_id</th>\n",
       "      <th>title</th>\n",
       "      <th>description</th>\n",
       "      <th>duration</th>\n",
       "      <th>view_count</th>\n",
       "      <th>like_count</th>\n",
       "      <th>channel_follower_count</th>\n",
       "      <th>categories</th>\n",
       "    </tr>\n",
       "  </thead>\n",
       "  <tbody>\n",
       "    <tr>\n",
       "      <th>0</th>\n",
       "      <td>Man, because I'm getting frustrated. I had a ...</td>\n",
       "      <td>AAHiZ-c88ec</td>\n",
       "      <td>How to INSTALL a HEAT PUMP Electric WATER HEAT...</td>\n",
       "      <td>Need to catch some rats? Use our Twin Traps: h...</td>\n",
       "      <td>586</td>\n",
       "      <td>10280</td>\n",
       "      <td>161.0</td>\n",
       "      <td>375000.0</td>\n",
       "      <td>Education</td>\n",
       "    </tr>\n",
       "    <tr>\n",
       "      <th>1</th>\n",
       "      <td>Before I start, I will give a shoutout to Rok...</td>\n",
       "      <td>AEsRr-ZnzNc</td>\n",
       "      <td>MacFan Salutes E10 S3: Avatar the Way of water...</td>\n",
       "      <td>Shoutouts \\n@RokuKun3 \\n@HarryStrackTheGoAnima...</td>\n",
       "      <td>172</td>\n",
       "      <td>18</td>\n",
       "      <td>0.0</td>\n",
       "      <td>128.0</td>\n",
       "      <td>Entertainment</td>\n",
       "    </tr>\n",
       "    <tr>\n",
       "      <th>2</th>\n",
       "      <td>test number 3. Alright Okay, oh go on the gro...</td>\n",
       "      <td>AJpzk-aFZPU</td>\n",
       "      <td>Blow up an apple fail</td>\n",
       "      <td>Lets see if blowing up an apple is a great ides</td>\n",
       "      <td>108</td>\n",
       "      <td>44</td>\n",
       "      <td>4.0</td>\n",
       "      <td>31.0</td>\n",
       "      <td>People &amp; Blogs</td>\n",
       "    </tr>\n",
       "    <tr>\n",
       "      <th>3</th>\n",
       "      <td>We're gonna play something off of our brand n...</td>\n",
       "      <td>AONXX-h9SdI</td>\n",
       "      <td>Queensryche 2022-10-21 \"Behind The Walls\" Kala...</td>\n",
       "      <td>Queensryche performs the song \"Behind The Wall...</td>\n",
       "      <td>353</td>\n",
       "      <td>612</td>\n",
       "      <td>24.0</td>\n",
       "      <td>8450.0</td>\n",
       "      <td>Music</td>\n",
       "    </tr>\n",
       "    <tr>\n",
       "      <th>4</th>\n",
       "      <td>Music</td>\n",
       "      <td>AOZIY-AwsjM</td>\n",
       "      <td>fish8</td>\n",
       "      <td>NaN</td>\n",
       "      <td>21</td>\n",
       "      <td>1</td>\n",
       "      <td>0.0</td>\n",
       "      <td>25.0</td>\n",
       "      <td>Comedy</td>\n",
       "    </tr>\n",
       "  </tbody>\n",
       "</table>\n",
       "</div>"
      ],
      "text/plain": [
       "                                          transcript     video_id  \\\n",
       "0   Man, because I'm getting frustrated. I had a ...  AAHiZ-c88ec   \n",
       "1   Before I start, I will give a shoutout to Rok...  AEsRr-ZnzNc   \n",
       "2   test number 3. Alright Okay, oh go on the gro...  AJpzk-aFZPU   \n",
       "3   We're gonna play something off of our brand n...  AONXX-h9SdI   \n",
       "4                                              Music  AOZIY-AwsjM   \n",
       "\n",
       "                                               title  \\\n",
       "0  How to INSTALL a HEAT PUMP Electric WATER HEAT...   \n",
       "1  MacFan Salutes E10 S3: Avatar the Way of water...   \n",
       "2                              Blow up an apple fail   \n",
       "3  Queensryche 2022-10-21 \"Behind The Walls\" Kala...   \n",
       "4                                              fish8   \n",
       "\n",
       "                                         description  duration  view_count  \\\n",
       "0  Need to catch some rats? Use our Twin Traps: h...       586       10280   \n",
       "1  Shoutouts \\n@RokuKun3 \\n@HarryStrackTheGoAnima...       172          18   \n",
       "2    Lets see if blowing up an apple is a great ides       108          44   \n",
       "3  Queensryche performs the song \"Behind The Wall...       353         612   \n",
       "4                                                NaN        21           1   \n",
       "\n",
       "   like_count  channel_follower_count      categories  \n",
       "0       161.0                375000.0       Education  \n",
       "1         0.0                   128.0   Entertainment  \n",
       "2         4.0                    31.0  People & Blogs  \n",
       "3        24.0                  8450.0           Music  \n",
       "4         0.0                    25.0          Comedy  "
      ]
     },
     "execution_count": 9,
     "metadata": {},
     "output_type": "execute_result"
    }
   ],
   "source": [
    "merged = pd.merge(transcripts, metadata, left_on='video_id', right_on='id', how='inner')\n",
    "merged.rename(columns={\"id\": \"video_id\"}, inplace=True)\n",
    "merged.head()"
   ]
  },
  {
   "cell_type": "code",
   "execution_count": 10,
   "metadata": {},
   "outputs": [
    {
     "data": {
      "text/plain": [
       "2654"
      ]
     },
     "execution_count": 10,
     "metadata": {},
     "output_type": "execute_result"
    }
   ],
   "source": [
    "len(merged)"
   ]
  },
  {
   "cell_type": "code",
   "execution_count": 11,
   "metadata": {},
   "outputs": [],
   "source": [
    "merged.to_csv('data/merged.csv')"
   ]
  },
  {
   "cell_type": "code",
   "execution_count": 20,
   "metadata": {},
   "outputs": [],
   "source": [
    "from collections import Counter"
   ]
  },
  {
   "cell_type": "code",
   "execution_count": 21,
   "metadata": {},
   "outputs": [
    {
     "data": {
      "text/plain": [
       "Counter({'Good': 1462, 'Bad': 1152})"
      ]
     },
     "execution_count": 21,
     "metadata": {},
     "output_type": "execute_result"
    }
   ],
   "source": [
    "df = pd.read_csv('data/normalized_merged.csv')\n",
    "Counter(df[\"openai_response\"].tolist())"
   ]
  },
  {
   "cell_type": "code",
   "execution_count": 22,
   "metadata": {},
   "outputs": [],
   "source": [
    "good_df = df[df[\"openai_response\"] == \"Good\"]\n",
    "good_df.head()\n",
    "good_df.to_csv(\"data/normalized_merged_categorized_good.csv\", index=False)"
   ]
  },
  {
   "cell_type": "code",
   "execution_count": null,
   "metadata": {},
   "outputs": [],
   "source": []
  }
 ],
 "metadata": {
  "kernelspec": {
   "display_name": "ytb",
   "language": "python",
   "name": "python3"
  },
  "language_info": {
   "codemirror_mode": {
    "name": "ipython",
    "version": 3
   },
   "file_extension": ".py",
   "mimetype": "text/x-python",
   "name": "python",
   "nbconvert_exporter": "python",
   "pygments_lexer": "ipython3",
   "version": "3.10.16"
  }
 },
 "nbformat": 4,
 "nbformat_minor": 2
}
