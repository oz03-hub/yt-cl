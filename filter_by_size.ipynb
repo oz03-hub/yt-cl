{
 "cells": [
  {
   "cell_type": "code",
   "execution_count": 1,
   "metadata": {},
   "outputs": [],
   "source": [
    "import pandas as pd"
   ]
  },
  {
   "cell_type": "code",
   "execution_count": 27,
   "metadata": {},
   "outputs": [
    {
     "data": {
      "text/html": [
       "<div>\n",
       "<style scoped>\n",
       "    .dataframe tbody tr th:only-of-type {\n",
       "        vertical-align: middle;\n",
       "    }\n",
       "\n",
       "    .dataframe tbody tr th {\n",
       "        vertical-align: top;\n",
       "    }\n",
       "\n",
       "    .dataframe thead th {\n",
       "        text-align: right;\n",
       "    }\n",
       "</style>\n",
       "<table border=\"1\" class=\"dataframe\">\n",
       "  <thead>\n",
       "    <tr style=\"text-align: right;\">\n",
       "      <th></th>\n",
       "      <th>Unnamed: 0</th>\n",
       "      <th>video_id</th>\n",
       "      <th>transcript</th>\n",
       "      <th>doc_length</th>\n",
       "      <th>lexical_diversity</th>\n",
       "    </tr>\n",
       "  </thead>\n",
       "  <tbody>\n",
       "    <tr>\n",
       "      <th>0</th>\n",
       "      <td>0</td>\n",
       "      <td>AAHiZ-c88ec</td>\n",
       "      <td>man getting frustrated water heater delivery s...</td>\n",
       "      <td>760</td>\n",
       "      <td>0.435526</td>\n",
       "    </tr>\n",
       "    <tr>\n",
       "      <th>1</th>\n",
       "      <td>1</td>\n",
       "      <td>AEsRr-ZnzNc</td>\n",
       "      <td>start give harry stack go war yes movie rock m...</td>\n",
       "      <td>142</td>\n",
       "      <td>0.676056</td>\n",
       "    </tr>\n",
       "    <tr>\n",
       "      <th>5</th>\n",
       "      <td>5</td>\n",
       "      <td>APerX-RLJxo</td>\n",
       "      <td>toyota corolla sedan automatic transmission in...</td>\n",
       "      <td>36</td>\n",
       "      <td>0.972222</td>\n",
       "    </tr>\n",
       "    <tr>\n",
       "      <th>6</th>\n",
       "      <td>6</td>\n",
       "      <td>AQbNb-vtBn8</td>\n",
       "      <td>go triton hi dale go starting next saturday si...</td>\n",
       "      <td>65</td>\n",
       "      <td>0.861538</td>\n",
       "    </tr>\n",
       "    <tr>\n",
       "      <th>7</th>\n",
       "      <td>7</td>\n",
       "      <td>AQfXU-TJ8hA</td>\n",
       "      <td>walked across empty land knew pathway like bac...</td>\n",
       "      <td>26</td>\n",
       "      <td>1.000000</td>\n",
       "    </tr>\n",
       "  </tbody>\n",
       "</table>\n",
       "</div>"
      ],
      "text/plain": [
       "   Unnamed: 0     video_id                                         transcript  \\\n",
       "0           0  AAHiZ-c88ec  man getting frustrated water heater delivery s...   \n",
       "1           1  AEsRr-ZnzNc  start give harry stack go war yes movie rock m...   \n",
       "5           5  APerX-RLJxo  toyota corolla sedan automatic transmission in...   \n",
       "6           6  AQbNb-vtBn8  go triton hi dale go starting next saturday si...   \n",
       "7           7  AQfXU-TJ8hA  walked across empty land knew pathway like bac...   \n",
       "\n",
       "   doc_length  lexical_diversity  \n",
       "0         760           0.435526  \n",
       "1         142           0.676056  \n",
       "5          36           0.972222  \n",
       "6          65           0.861538  \n",
       "7          26           1.000000  "
      ]
     },
     "execution_count": 27,
     "metadata": {},
     "output_type": "execute_result"
    }
   ],
   "source": [
    "df = pd.read_csv(\"data/normalized_pruned.csv\", index_col=0)\n",
    "df.head()"
   ]
  },
  {
   "cell_type": "code",
   "execution_count": 28,
   "metadata": {},
   "outputs": [
    {
     "data": {
      "text/html": [
       "<div>\n",
       "<style scoped>\n",
       "    .dataframe tbody tr th:only-of-type {\n",
       "        vertical-align: middle;\n",
       "    }\n",
       "\n",
       "    .dataframe tbody tr th {\n",
       "        vertical-align: top;\n",
       "    }\n",
       "\n",
       "    .dataframe thead th {\n",
       "        text-align: right;\n",
       "    }\n",
       "</style>\n",
       "<table border=\"1\" class=\"dataframe\">\n",
       "  <thead>\n",
       "    <tr style=\"text-align: right;\">\n",
       "      <th></th>\n",
       "      <th>Unnamed: 0</th>\n",
       "      <th>video_id</th>\n",
       "      <th>transcript</th>\n",
       "      <th>doc_length</th>\n",
       "      <th>lexical_diversity</th>\n",
       "    </tr>\n",
       "  </thead>\n",
       "  <tbody>\n",
       "    <tr>\n",
       "      <th>0</th>\n",
       "      <td>0</td>\n",
       "      <td>AAHiZ-c88ec</td>\n",
       "      <td>man getting frustrated water heater delivery s...</td>\n",
       "      <td>760</td>\n",
       "      <td>0.435526</td>\n",
       "    </tr>\n",
       "    <tr>\n",
       "      <th>1</th>\n",
       "      <td>1</td>\n",
       "      <td>AEsRr-ZnzNc</td>\n",
       "      <td>start give harry stack go war yes movie rock m...</td>\n",
       "      <td>142</td>\n",
       "      <td>0.676056</td>\n",
       "    </tr>\n",
       "    <tr>\n",
       "      <th>5</th>\n",
       "      <td>5</td>\n",
       "      <td>APerX-RLJxo</td>\n",
       "      <td>toyota corolla sedan automatic transmission in...</td>\n",
       "      <td>36</td>\n",
       "      <td>0.972222</td>\n",
       "    </tr>\n",
       "    <tr>\n",
       "      <th>6</th>\n",
       "      <td>6</td>\n",
       "      <td>AQbNb-vtBn8</td>\n",
       "      <td>go triton hi dale go starting next saturday si...</td>\n",
       "      <td>65</td>\n",
       "      <td>0.861538</td>\n",
       "    </tr>\n",
       "    <tr>\n",
       "      <th>7</th>\n",
       "      <td>7</td>\n",
       "      <td>AQfXU-TJ8hA</td>\n",
       "      <td>walked across empty land knew pathway like bac...</td>\n",
       "      <td>26</td>\n",
       "      <td>1.000000</td>\n",
       "    </tr>\n",
       "  </tbody>\n",
       "</table>\n",
       "</div>"
      ],
      "text/plain": [
       "   Unnamed: 0     video_id                                         transcript  \\\n",
       "0           0  AAHiZ-c88ec  man getting frustrated water heater delivery s...   \n",
       "1           1  AEsRr-ZnzNc  start give harry stack go war yes movie rock m...   \n",
       "5           5  APerX-RLJxo  toyota corolla sedan automatic transmission in...   \n",
       "6           6  AQbNb-vtBn8  go triton hi dale go starting next saturday si...   \n",
       "7           7  AQfXU-TJ8hA  walked across empty land knew pathway like bac...   \n",
       "\n",
       "   doc_length  lexical_diversity  \n",
       "0         760           0.435526  \n",
       "1         142           0.676056  \n",
       "5          36           0.972222  \n",
       "6          65           0.861538  \n",
       "7          26           1.000000  "
      ]
     },
     "execution_count": 28,
     "metadata": {},
     "output_type": "execute_result"
    }
   ],
   "source": [
    "df.head()"
   ]
  },
  {
   "cell_type": "code",
   "execution_count": 29,
   "metadata": {},
   "outputs": [],
   "source": [
    "df.drop(columns=[\"Unnamed: 0\"], inplace=True)"
   ]
  },
  {
   "cell_type": "code",
   "execution_count": 30,
   "metadata": {},
   "outputs": [
    {
     "data": {
      "text/plain": [
       "count    1479.000000\n",
       "mean      230.432049\n",
       "std       273.348913\n",
       "min        23.000000\n",
       "25%        53.000000\n",
       "50%       124.000000\n",
       "75%       305.000000\n",
       "max      2149.000000\n",
       "Name: doc_length, dtype: float64"
      ]
     },
     "execution_count": 30,
     "metadata": {},
     "output_type": "execute_result"
    }
   ],
   "source": [
    "df[\"doc_length\"].describe()"
   ]
  },
  {
   "cell_type": "code",
   "execution_count": 31,
   "metadata": {},
   "outputs": [],
   "source": [
    "df = df[df[\"doc_length\"] > 53]\n",
    "df.to_csv(\"data/normalized_pruned_len_filtered.csv\", index=False)"
   ]
  },
  {
   "cell_type": "code",
   "execution_count": null,
   "metadata": {},
   "outputs": [],
   "source": []
  }
 ],
 "metadata": {
  "kernelspec": {
   "display_name": "ytb",
   "language": "python",
   "name": "python3"
  },
  "language_info": {
   "codemirror_mode": {
    "name": "ipython",
    "version": 3
   },
   "file_extension": ".py",
   "mimetype": "text/x-python",
   "name": "python",
   "nbconvert_exporter": "python",
   "pygments_lexer": "ipython3",
   "version": "3.10.16"
  }
 },
 "nbformat": 4,
 "nbformat_minor": 2
}
