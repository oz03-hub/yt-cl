{
 "cells": [
  {
   "cell_type": "code",
   "execution_count": 3,
   "metadata": {},
   "outputs": [],
   "source": [
    "import librosa\n",
    "import numpy as np\n",
    "import os\n",
    "import pandas as pd\n",
    "from sklearn.preprocessing import StandardScaler\n",
    "from sklearn.cluster import KMeans\n",
    "from tqdm import tqdm\n",
    "\n",
    "AUDIO_DIR = \"../../../work/pi_vcpartridge_umass_edu/ytb_wavs/\""
   ]
  },
  {
   "cell_type": "code",
   "execution_count": 4,
   "metadata": {},
   "outputs": [],
   "source": [
    "# Function to extract multiple audio features\n",
    "def extract_features(file_path):\n",
    "    try:\n",
    "        y, sr = librosa.load(file_path, sr=None)\n",
    "        \n",
    "        # Compute features\n",
    "        zcr = np.mean(librosa.feature.zero_crossing_rate(y))\n",
    "        spectral_centroid = np.mean(librosa.feature.spectral_centroid(y=y, sr=sr))\n",
    "        spectral_flux = np.mean(np.diff(librosa.feature.spectral_bandwidth(y=y, sr=sr)))\n",
    "        rms_energy = np.mean(librosa.feature.rms(y=y))\n",
    "        \n",
    "        return [zcr, spectral_centroid, spectral_flux, rms_energy]\n",
    "    except Exception as e:\n",
    "        print(f\"Error processing {file_path}: {e}\")\n",
    "        return None"
   ]
  },
  {
   "cell_type": "code",
   "execution_count": null,
   "metadata": {},
   "outputs": [
    {
     "name": "stderr",
     "output_type": "stream",
     "text": [
      "  0%|          | 11/2654 [00:13<54:59,  1.25s/it] \n"
     ]
    }
   ],
   "source": [
    "\n",
    "# Process all WAV files\n",
    "data = []\n",
    "file_names = []\n",
    "for file_name in tqdm(os.listdir(AUDIO_DIR)):    \n",
    "    if file_name.endswith(\".wav\"):\n",
    "        file_path = os.path.join(AUDIO_DIR, file_name)\n",
    "        features = extract_features(file_path)\n",
    "        \n",
    "        if features:\n",
    "            data.append(features)\n",
    "            file_names.append(file_name.replace(\".wav\", \"\"))\n"
   ]
  },
  {
   "cell_type": "code",
   "execution_count": 8,
   "metadata": {},
   "outputs": [
    {
     "name": "stdout",
     "output_type": "stream",
     "text": [
      "Clustering complete! Results saved to clustered_results.csv.\n"
     ]
    }
   ],
   "source": [
    "\n",
    "# Convert to DataFrame\n",
    "df = pd.DataFrame(data, columns=[\"ZCR\", \"SpectralCentroid\", \"SpectralFlux\", \"RMSEnergy\"])\n",
    "df[\"File\"] = file_names\n",
    "\n",
    "# Normalize the features\n",
    "scaler = StandardScaler()\n",
    "df_scaled = scaler.fit_transform(df.drop(columns=[\"File\"]))\n",
    "\n",
    "# Apply K-Means clustering\n",
    "kmeans = KMeans(n_clusters=2, random_state=42, n_init=10)\n",
    "df[\"Cluster\"] = kmeans.fit_predict(df_scaled)\n",
    "\n",
    "# Assign labels: The cluster with a higher mean ZCR is likely speech\n",
    "cluster_means = df.groupby(\"Cluster\")[\"ZCR\"].mean()\n",
    "speech_cluster = cluster_means.idxmax()\n",
    "\n",
    "df[\"Classification\"] = df[\"Cluster\"].apply(lambda x: \"Speech\" if x == speech_cluster else \"Music\")\n",
    "\n",
    "# Save results\n",
    "df[[\"File\", \"ZCR\", \"SpectralCentroid\", \"SpectralFlux\", \"RMSEnergy\", \"Classification\"]].to_csv(\"clustered_results.csv\", index=False)\n",
    "\n",
    "print(\"Clustering complete! Results saved to clustered_results.csv.\")"
   ]
  },
  {
   "cell_type": "code",
   "execution_count": null,
   "metadata": {},
   "outputs": [],
   "source": []
  }
 ],
 "metadata": {
  "kernelspec": {
   "display_name": "ytb",
   "language": "python",
   "name": "python3"
  },
  "language_info": {
   "codemirror_mode": {
    "name": "ipython",
    "version": 3
   },
   "file_extension": ".py",
   "mimetype": "text/x-python",
   "name": "python",
   "nbconvert_exporter": "python",
   "pygments_lexer": "ipython3",
   "version": "3.10.16"
  }
 },
 "nbformat": 4,
 "nbformat_minor": 2
}
